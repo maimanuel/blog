{
 "cells": [
  {
   "cell_type": "markdown",
   "metadata": {},
   "source": [
    "# Decision Trees from Scratch Part 2\n",
    "> This is the second post in a series to build a random forest regressor from scratch. In this post we will add a predict method to our DecisionTree class.\n",
    "\n",
    "- toc: true\n",
    "- badges: false\n",
    "- comments: true\n",
    "- categories: [python, from_scratch, ml]\n",
    "- author: Manuel Mai\n",
    "- image: images/crystal_ball.jpg"
   ]
  },
  {
   "cell_type": "markdown",
   "metadata": {},
   "source": [
    "## Introduction\n",
    "In the [previous post](https://blog.manuelmai.com/python/from_scratch/ml/2020/06/28/Decision_Trees_from_Scratch.html) we developed a simple, non-optimized version of a fitting method for a decision tree for regression. In this post we will add a `predict` method."
   ]
  },
  {
   "cell_type": "markdown",
   "metadata": {},
   "source": [
    "## Predicting a Sample\n",
    "\n",
    "We are focused on the regression problem here, so predicting the `y` value of a sample row `x` means tracing the tree based on the splits and then predicting `self.value` once we reach a leaf node.\n",
    "```python\n",
    "def predict_row(self,row):\n",
    "    # assume 'row' is a DF row or numpy array\n",
    "    # check if it's a leaf node, then return mean of y for this node\n",
    "    if self.score == float('inf'): return self.value\n",
    "    # Otherwise check variable split and move down the correct branch of the tree\n",
    "    t = self.left if row[self.var] <= self.split else self.right\n",
    "    return t.predict_row(row)\n",
    "```\n",
    "\n",
    "The `predict_row(x)` method is written recursively and we start with the behavior at a leaf node, because it's very easy. If we are at the leaf node, we simply predict `sel.val` of that node which was set up to be the mean `y` of all training samples that ended up in this node. If we are not at a leaf node, we need to go deeper down the tree.  \n",
    "\n",
    "The way we do it is to trace down the variable split for this node, which will exist by definition because we are not at a leaf node. The index of the split variable is stored in `self.var` and the split value in `self.split`. We now have all the pieces in place to go down the proper branch of the tree. If the split variable `x[self.var]` is less than or equal to the split value `self.split` we go to the left sub-tree a call `predict_row` on that node, otherwise we will go right. \n",
    "\n",
    "That is all the recursion does. It will go down the tree until eventually we hit a leaf node and we return `self.value` as the prediction for this particular row `x`.\n",
    "\n",
    "Now the final step to do is to implement prediction on an entire `DataFrame` x. The idea is very simple. The predict method will just return an array of all the predictions for each row.\n",
    "\n",
    "```python\n",
    "\n",
    "def predict(self,x):\n",
    "    return np.array([self.predict_row(row) for row in x.to_numpy()])\n",
    "```"
   ]
  },
  {
   "cell_type": "markdown",
   "metadata": {},
   "source": [
    "## Completed Class\n",
    "\n",
    "Let's take a look at the completed class that we have assembled so far."
   ]
  },
  {
   "cell_type": "code",
   "execution_count": 198,
   "metadata": {},
   "outputs": [],
   "source": [
    "def sum_squares(x_vals,x_sq):\n",
    "    return np.sum(x_sq - np.mean(x_vals)**2) \n",
    "\n",
    "class DecisionTree():\n",
    "    def __init__(self,x,y,idxs=None,min_leaf_size=5,max_tree_depth=3):\n",
    "        self.x,self.y,self.min_leaf_size,self.max_tree_depth = x,y,min_leaf_size,max_tree_depth\n",
    "        self.idxs = np.arange(len(y)) if idxs is None else idxs\n",
    "        self.n_rows, self.n_cols = len(self.idxs),self.x.shape[1]\n",
    "        self.val = np.mean(self.y[self.idxs])\n",
    "        self.score = float('inf')\n",
    "        self.find_varsplit()\n",
    "    \n",
    "    #go through all variables and find a variable split \n",
    "    def find_varsplit(self):\n",
    "        if self.max_tree_depth > 0:\n",
    "            for i in range(self.n_cols): self.find_better_split(i)\n",
    "        if self.score == float('inf'): return # no split was found\n",
    "        self.left = DecisionTree(self.x,self.y,self.left_idxs,max_tree_depth=self.max_tree_depth-1)\n",
    "        self.right = DecisionTree(self.x,self.y,self.right_idxs,max_tree_depth=self.max_tree_depth-1)\n",
    "            \n",
    "    # find a split that achieves a lower score than the one we already have\n",
    "    def find_better_split(self,i):\n",
    "        y = self.y[self.idxs]\n",
    "        y_sq = y*y\n",
    "        col_data = self.x.iloc[self.idxs,i]\n",
    "        for x_val in self.x.iloc[self.idxs,i].unique():\n",
    "            left_ss,right_ss = float('inf'),float('inf')\n",
    "            f_left = col_data <= x_val\n",
    "            f_right = col_data > x_val\n",
    "            if np.sum(f_left) > 0: left_ss = sum_squares(y[f_left],y_sq[f_left])\n",
    "            if np.sum(f_right) > 0: right_ss = sum_squares(y[f_right],y_sq[f_right])\n",
    "            if self.score > left_ss+right_ss: \n",
    "                self.score,self.var,self.split = left_ss+right_ss,i,x_val\n",
    "                self.left_idxs,self.right_idxs = self.idxs[f_left],self.idxs[f_right]\n",
    "    \n",
    "    # predict y values for a data frame x\n",
    "    def predict(self,x):\n",
    "        return np.array([self.predict_row(row) for row in x.to_numpy()])\n",
    "\n",
    "    def predict_row(self,row):\n",
    "        # assume 'row' is a DF row\n",
    "        # check if it's a leaf node, then return mean of y for this node\n",
    "        if self.score == float('inf'): return self.val\n",
    "        # Otherwise check variable split and move down the correct branch of the tree\n",
    "        t = self.left if row[self.var] <= self.split else self.right\n",
    "        return t.predict_row(row)\n",
    "    \n",
    "    #print a nice representation of the tree instance\n",
    "    def __repr__(self):\n",
    "        s = f'val: {self.val}, n_rows: {self.n_rows}, n_cols: {self.n_cols}'\n",
    "        if self.score != float('inf'):\n",
    "            s+= f', var: {self.x.columns[self.var]}, split: {self.split}'\n",
    "        return s"
   ]
  },
  {
   "cell_type": "markdown",
   "metadata": {},
   "source": [
    "When we initialize the class with data `x,y` we start fitting a tree. Now we can use a validation or test set and predict new values `y_new` from a new input set `x_new` by `calling predict(x_new)`, pretty cool! Let's try it out."
   ]
  },
  {
   "cell_type": "markdown",
   "metadata": {},
   "source": [
    "# Test on Synthetic Data"
   ]
  },
  {
   "cell_type": "code",
   "execution_count": 199,
   "metadata": {},
   "outputs": [],
   "source": [
    "#hide\n",
    "import numpy as np\n",
    "import pandas as pd\n",
    "import matplotlib.pyplot as plt\n",
    "%matplotlib inline"
   ]
  },
  {
   "cell_type": "markdown",
   "metadata": {},
   "source": [
    "Generate a synthetic data set and split into train and test sets."
   ]
  },
  {
   "cell_type": "code",
   "execution_count": 200,
   "metadata": {},
   "outputs": [],
   "source": [
    "np.random.seed(42)\n",
    "x = pd.DataFrame(np.random.rand(150,3))\n",
    "x.columns = ['x'+str(i) for i in range(3)]\n",
    "y = np.array(x['x0']+x['x1']*10+x['x2']*20)\n",
    "\n",
    "x_train = x[:100]\n",
    "y_train = y[:100]\n",
    "\n",
    "x_test = x[100:]\n",
    "y_test = y[100:]"
   ]
  },
  {
   "cell_type": "code",
   "execution_count": 201,
   "metadata": {},
   "outputs": [],
   "source": [
    "DT = DecisionTree(x_train,y_train,max_tree_depth=4)"
   ]
  },
  {
   "cell_type": "code",
   "execution_count": 202,
   "metadata": {},
   "outputs": [],
   "source": [
    "y_pred = DT.predict(x_test)"
   ]
  },
  {
   "cell_type": "markdown",
   "metadata": {},
   "source": [
    "Let's visually inspect the predictions."
   ]
  },
  {
   "cell_type": "code",
   "execution_count": 203,
   "metadata": {},
   "outputs": [
    {
     "data": {
      "text/plain": [
       "Text(0.5, 1.0, 'Prediction vs. Test Labels')"
      ]
     },
     "execution_count": 203,
     "metadata": {},
     "output_type": "execute_result"
    },
    {
     "data": {
      "image/png": "[encoded data removed]",
      "text/plain": [
       "<Figure size 432x288 with 1 Axes>"
      ]
     },
     "metadata": {
      "needs_background": "light"
     },
     "output_type": "display_data"
    }
   ],
   "source": [
    "plt.scatter(y_test,y_pred)\n",
    "plt.xlabel('$y_{\\\\rm test}$')\n",
    "plt.ylabel('$y_{\\\\rm pred}$')\n",
    "plt.title('Prediction vs. Test Labels')"
   ]
  },
  {
   "cell_type": "markdown",
   "metadata": {},
   "source": [
    "This looks like a great success! We have achieved a high correlation, and we will quantify the performance on real data once we optimize the fitting procedure."
   ]
  },
  {
   "cell_type": "markdown",
   "metadata": {},
   "source": [
    "## Next up \n",
    "\n",
    "Optimizing the time complexity and assembling the Random Forest.\n",
    "\n",
    "**Photo Credit**  \n",
    "<span>Preview Photo by <a href=\"https://unsplash.com/@lazycreekimages?utm_source=unsplash&amp;utm_medium=referral&amp;utm_content=creditCopyText\">Michael Dziedzic</a> on <a href=\"https://unsplash.com/s/photos/predict?utm_source=unsplash&amp;utm_medium=referral&amp;utm_content=creditCopyText\">Unsplash</a></span>"
   ]
  }
 ],
 "metadata": {
  "kernelspec": {
   "display_name": "Python 3",
   "language": "python",
   "name": "python3"
  },
  "language_info": {
   "codemirror_mode": {
    "name": "ipython",
    "version": 3
   },
   "file_extension": ".py",
   "mimetype": "text/x-python",
   "name": "python",
   "nbconvert_exporter": "python",
   "pygments_lexer": "ipython3",
   "version": "3.7.3"
  },
  "varInspector": {
   "cols": {
    "lenName": 16,
    "lenType": 16,
    "lenVar": 40
   },
   "kernels_config": {
    "python": {
     "delete_cmd_postfix": "",
     "delete_cmd_prefix": "del ",
     "library": "var_list.py",
     "varRefreshCmd": "print(var_dic_list())"
    },
    "r": {
     "delete_cmd_postfix": ") ",
     "delete_cmd_prefix": "rm(",
     "library": "var_list.r",
     "varRefreshCmd": "cat(var_dic_list()) "
    }
   },
   "types_to_exclude": [
    "module",
    "function",
    "builtin_function_or_method",
    "instance",
    "_Feature"
   ],
   "window_display": false
  }
 },
 "nbformat": 4,
 "nbformat_minor": 4
}
