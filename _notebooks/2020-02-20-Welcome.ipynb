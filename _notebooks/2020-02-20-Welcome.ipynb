{
 "cells": [
  {
   "cell_type": "markdown",
   "metadata": {},
   "source": [
    "# Welcome\n",
    "> This is my first post. It's scary.\n",
    "\n",
    "- toc: false \n",
    "- badges: false\n",
    "- comments: true\n",
    "- categories: [streamofconsciousness]\n",
    "- author: Manuel Mai\n",
    "- image: images/chart-preview.png"
   ]
  },
  {
   "cell_type": "markdown",
   "metadata": {},
   "source": [
    "## My Pledge\n",
    "\n",
    "My intention with this blog to capture some of my technical learnings, teachings, and potentially a stream of conciousness. I do not know how frequently I will post or how deeply I will explore certain topics, but I believe it can serve me as a tool to clarify my own thinking, and improve my writing. \n",
    "\n",
    "My hope is that others, like you, find some portion of this blog useful. Only time will tell if there is any value in this for me or you, so I am not making any big promises. \n",
    "\n",
    "My commitment is to create at least 5 posts following this one."
   ]
  },
  {
   "cell_type": "markdown",
   "metadata": {},
   "source": [
    "Here we go.\n",
    "Manuel"
   ]
  }
 ],
 "metadata": {
  "kernelspec": {
   "display_name": "Python 3",
   "language": "python",
   "name": "python3"
  },
  "language_info": {
   "codemirror_mode": {
    "name": "ipython",
    "version": 3
   },
   "file_extension": ".py",
   "mimetype": "text/x-python",
   "name": "python",
   "nbconvert_exporter": "python",
   "pygments_lexer": "ipython3",
   "version": "3.7.3"
  },
  "varInspector": {
   "cols": {
    "lenName": 16,
    "lenType": 16,
    "lenVar": 40
   },
   "kernels_config": {
    "python": {
     "delete_cmd_postfix": "",
     "delete_cmd_prefix": "del ",
     "library": "var_list.py",
     "varRefreshCmd": "print(var_dic_list())"
    },
    "r": {
     "delete_cmd_postfix": ") ",
     "delete_cmd_prefix": "rm(",
     "library": "var_list.r",
     "varRefreshCmd": "cat(var_dic_list()) "
    }
   },
   "types_to_exclude": [
    "module",
    "function",
    "builtin_function_or_method",
    "instance",
    "_Feature"
   ],
   "window_display": false
  }
 },
 "nbformat": 4,
 "nbformat_minor": 4
}
